{
 "cells": [
  {
   "cell_type": "code",
   "execution_count": 37,
   "metadata": {},
   "outputs": [
    {
     "data": {
      "text/plain": [
       "(   Unnamed: 0        Date    CPI  Industry Production     PCE  Retail Sales  \\\n",
       " 0           0  1998-01-01  161.6               84.347  70.736      142955.0   \n",
       " 1           1  1998-01-01  161.6               84.347  70.736      142955.0   \n",
       " 2           2  1998-01-01  161.6               84.347  70.736      142955.0   \n",
       " 3           3  1998-01-01  161.6               84.347  70.736      142955.0   \n",
       " 4           4  1998-01-01  161.6               84.347  70.736      142955.0   \n",
       " \n",
       "    Unemployment  Wage Increase  Fed Rate  Home Sales  ...  Retail Trade Lag_6  \\\n",
       " 0           4.6          319.0      5.84       872.0  ...            209666.0   \n",
       " 1           4.6          319.0      6.06       872.0  ...            209666.0   \n",
       " 2           4.6          319.0      5.51       872.0  ...            209666.0   \n",
       " 3           4.6          319.0      5.35       872.0  ...            209666.0   \n",
       " 4           4.6          319.0      5.29       872.0  ...            209666.0   \n",
       " \n",
       "    Real GDP Lag_6  Industry Production Lag_12  PCE Lag_12  \\\n",
       " 0       12703.742                      84.347      70.736   \n",
       " 1       12703.742                      84.347      70.736   \n",
       " 2       12703.742                      84.347      70.736   \n",
       " 3       12703.742                      84.347      70.736   \n",
       " 4       12703.742                      84.347      70.736   \n",
       " \n",
       "    Retail Sales Lag_12  Unemployment Lag_12  Wage Increase Lag_12  \\\n",
       " 0             142955.0                  4.6                 319.0   \n",
       " 1             142955.0                  4.6                 319.0   \n",
       " 2             142955.0                  4.6                 319.0   \n",
       " 3             142955.0                  4.6                 319.0   \n",
       " 4             142955.0                  4.6                 319.0   \n",
       " \n",
       "    Home Sales Lag_12 Retail Trade Lag_12  Real GDP Lag_12  \n",
       " 0              872.0            209666.0        12703.742  \n",
       " 1              872.0            209666.0        12703.742  \n",
       " 2              872.0            209666.0        12703.742  \n",
       " 3              872.0            209666.0        12703.742  \n",
       " 4              872.0            209666.0        12703.742  \n",
       " \n",
       " [5 rows x 105 columns],\n",
       "         Price               Close                High                Low  \\\n",
       " 0      Ticker                ^SPX                ^SPX               ^SPX   \n",
       " 1        Date                 NaN                 NaN                NaN   \n",
       " 2  2013-01-02  1462.4200439453125  1462.4300537109375   1426.18994140625   \n",
       " 3  2013-01-03  1459.3699951171875   1465.469970703125  1455.530029296875   \n",
       " 4  2013-01-04   1466.469970703125    1467.93994140625  1458.989990234375   \n",
       " \n",
       "                  Open      Volume  Name  \n",
       " 0                ^SPX        ^SPX   NaN  \n",
       " 1                 NaN         NaN   NaN  \n",
       " 2    1426.18994140625  4202600000  ^SPX  \n",
       " 3  1462.4200439453125  3829730000  ^SPX  \n",
       " 4  1459.3699951171875  3424290000  ^SPX  )"
      ]
     },
     "execution_count": 37,
     "metadata": {},
     "output_type": "execute_result"
    }
   ],
   "source": [
    "import pandas as pd\n",
    "import numpy as np\n",
    "\n",
    "# Load the datasets\n",
    "fomc_df = pd.read_csv(\"FOMC_dataset.csv\")\n",
    "spx_df = pd.read_csv(\"^SPX_data.csv\")\n",
    "\n",
    "# Display the first few rows of each dataset to understand their structure\n",
    "fomc_df.head(), spx_df.head()\n"
   ]
  },
  {
   "cell_type": "code",
   "execution_count": 38,
   "metadata": {},
   "outputs": [
    {
     "name": "stdout",
     "output_type": "stream",
     "text": [
      "Missing Values:\n",
      " Date                    0\n",
      "Unnamed: 0              0\n",
      "CPI                     0\n",
      "Industry Production     0\n",
      "PCE                     0\n",
      "                       ..\n",
      "Unemployment Lag_12     0\n",
      "Wage Increase Lag_12    0\n",
      "Home Sales Lag_12       0\n",
      "Retail Trade Lag_12     0\n",
      "Real GDP Lag_12         0\n",
      "Length: 102, dtype: int64\n",
      "Final Columns: ['Date', 'Year', 'Month', 'CPI', 'Unemployment', 'Fed Rate', 'Real GDP', 'Inflation', 'Home Sales', 'Retail Sales', 'Industry Production Lag_1', 'Unemployment Lag_1', 'YoY Unemployment', 'Month_Sin', 'Month_Cos']\n"
     ]
    }
   ],
   "source": [
    "# Convert Date columns to datetime format\n",
    "fomc_df['Date'] = pd.to_datetime(fomc_df['Date'])\n",
    "fomc_df['Year'] = fomc_df['Date'].dt.year\n",
    "fomc_df['Month'] = fomc_df['Date'].dt.month\n",
    "spx_df = spx_df.iloc[2:].reset_index(drop=True)  # Remove metadata rows\n",
    "\n",
    "# Rename columns for clarity\n",
    "spx_df.columns = ['Date', 'Close', 'High', 'Low', 'Open', 'Volume', 'Name']\n",
    "spx_df = spx_df.drop(columns=['Name'])  # Remove unnecessary column\n",
    "\n",
    "# Convert numeric columns to float type\n",
    "spx_numeric_cols = ['Close', 'High', 'Low', 'Open', 'Volume']\n",
    "spx_df[spx_numeric_cols] = spx_df[spx_numeric_cols].astype(float)\n",
    "\n",
    "# Remove records before a certain cutoff date\n",
    "cutoff_date = pd.to_datetime(\"2013-01-01\")\n",
    "fomc_df = fomc_df[fomc_df['Date'] >= cutoff_date]\n",
    "\n",
    "# Group by Date and aggregate\n",
    "numeric_cols = fomc_df.select_dtypes(include=[np.number]).columns.drop('FOMC Meeting', errors='ignore') \n",
    "fomc_df = fomc_df.groupby('Date')[numeric_cols].mean().reset_index()\n",
    "\n",
    "# Fill missing FOMC Meeting with 0 (no meeting)\n",
    "print(\"Missing Values:\\n\", fomc_df.isnull().sum())\n",
    "\n",
    "# Cell 6: Treat Outliers\n",
    "fomc_df['Real GDP'] = fomc_df['Real GDP'].replace(28630.739, np.nan)\n",
    "fomc_df['Real GDP'] = fomc_df['Real GDP'].interpolate(method='linear')\n",
    "fomc_df['Home Sales'] = fomc_df['Home Sales'].clip(lower=400, upper=800) \n",
    "\n",
    "# Cell 8: Select Key Columns for Tableau\n",
    "key_columns = [\n",
    "    'Date', 'Year', 'Month', 'CPI', 'Unemployment', 'Fed Rate', 'Real GDP', \n",
    "    'Inflation', 'Home Sales', 'Retail Sales', 'FOMC Meeting', 'Regime',\n",
    "    'Industry Production Lag_1', 'Unemployment Lag_1', 'YoY CPI', 'YoY Unemployment',\n",
    "    'Month_Sin', 'Month_Cos'\n",
    "]\n",
    "\n",
    "fomc_df = fomc_df[[col for col in key_columns if col in fomc_df.columns]]\n",
    "print(\"Final Columns:\", fomc_df.columns.tolist())\n",
    "\n",
    "fomc_df.to_csv(\"FOMC_dataset_cleaned.csv\", index=False)\n",
    "spx_df.to_csv(\"SPX_dataset_cleaned.csv\", index=False)"
   ]
  },
  {
   "cell_type": "code",
   "execution_count": null,
   "metadata": {},
   "outputs": [],
   "source": []
  }
 ],
 "metadata": {
  "kernelspec": {
   "display_name": "Python 3",
   "language": "python",
   "name": "python3"
  },
  "language_info": {
   "codemirror_mode": {
    "name": "ipython",
    "version": 3
   },
   "file_extension": ".py",
   "mimetype": "text/x-python",
   "name": "python",
   "nbconvert_exporter": "python",
   "pygments_lexer": "ipython3",
   "version": "3.12.9"
  }
 },
 "nbformat": 4,
 "nbformat_minor": 2
}
