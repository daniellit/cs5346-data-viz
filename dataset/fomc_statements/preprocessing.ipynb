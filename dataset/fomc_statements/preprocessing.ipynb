{
 "cells": [
  {
   "cell_type": "code",
   "execution_count": null,
   "metadata": {},
   "outputs": [
    {
     "name": "stderr",
     "output_type": "stream",
     "text": [
      "[nltk_data] Downloading package vader_lexicon to\n",
      "[nltk_data]     C:\\Users\\danie\\AppData\\Roaming\\nltk_data...\n"
     ]
    },
    {
     "name": "stdout",
     "output_type": "stream",
     "text": [
      "Updated communications.csv with Sentiment_Score:\n",
      "           Date Release Date       Type  Sentiment_Score\n",
      "0    2025-01-29   2025-02-19     Minute                5\n",
      "1    2025-01-29   2025-01-29  Statement                3\n",
      "2    2024-12-18   2024-12-18  Statement                4\n",
      "3    2024-12-18   2025-01-08     Minute                5\n",
      "4    2024-11-07   2024-11-26     Minute                5\n",
      "..          ...          ...        ...              ...\n",
      "439  2000-05-16   2000-05-16  Statement                4\n",
      "440  2000-03-21   2000-05-18     Minute                5\n",
      "441  2000-03-21   2000-03-21  Statement                4\n",
      "442  2000-02-02   2000-03-23     Minute                5\n",
      "443  2000-02-02   2000-02-02  Statement                4\n",
      "\n",
      "[444 rows x 4 columns]\n",
      "Data exported to 'communications_with_sentiment.csv'\n"
     ]
    }
   ],
   "source": [
    "# Import necessary libraries\n",
    "import pandas as pd\n",
    "from nltk.sentiment.vader import SentimentIntensityAnalyzer\n",
    "import nltk\n",
    "\n",
    "# Download VADER lexicon if not already downloaded\n",
    "nltk.download('vader_lexicon')\n",
    "\n",
    "# Read the uploaded communications.csv file\n",
    "# Assuming it’s in your working directory; adjust the path if needed\n",
    "df = pd.read_csv('fomc.csv')\n",
    "\n",
    "# Initialize VADER sentiment analyzer\n",
    "sid = SentimentIntensityAnalyzer()\n",
    "\n",
    "# Function to compute sentiment and scale to -5 to 5\n",
    "def get_sentiment_score(text):\n",
    "    # Handle potential NaN or non-string values\n",
    "    if not isinstance(text, str):\n",
    "        return 0  # Default to neutral if text is missing\n",
    "    score = sid.polarity_scores(text)['compound']  # VADER compound score (-1 to 1)\n",
    "    scaled_score = int(round(score * 5))  # Scale to -5 to 5 and round to integer\n",
    "    return scaled_score\n",
    "\n",
    "# Add Sentiment_Score column (assuming 'Text' is the column with text data)\n",
    "df['Sentiment_Score'] = df['Text'].apply(get_sentiment_score)\n",
    "\n",
    "# Display the updated DataFrame\n",
    "print(\"Updated fomc.csv with Sentiment_Score:\")\n",
    "print(df[['Date', 'Release Date', 'Type', 'Sentiment_Score']])\n",
    "\n",
    "# Export to a new CSV\n",
    "df.to_csv('fomc_with_sentiment.csv', index=False)\n",
    "print(\"Data exported to 'fomc_with_sentiment.csv'\")"
   ]
  }
 ],
 "metadata": {
  "kernelspec": {
   "display_name": "Python 3",
   "language": "python",
   "name": "python3"
  },
  "language_info": {
   "codemirror_mode": {
    "name": "ipython",
    "version": 3
   },
   "file_extension": ".py",
   "mimetype": "text/x-python",
   "name": "python",
   "nbconvert_exporter": "python",
   "pygments_lexer": "ipython3",
   "version": "3.12.9"
  }
 },
 "nbformat": 4,
 "nbformat_minor": 2
}
