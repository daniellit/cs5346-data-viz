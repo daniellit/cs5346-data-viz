{
 "cells": [
  {
   "cell_type": "code",
   "execution_count": null,
   "metadata": {},
   "outputs": [
    {
     "name": "stderr",
     "output_type": "stream",
     "text": [
      "[nltk_data] Downloading package vader_lexicon to\n",
      "[nltk_data]     C:\\Users\\danie\\AppData\\Roaming\\nltk_data...\n",
      "[nltk_data]   Package vader_lexicon is already up-to-date!\n"
     ]
    },
    {
     "name": "stdout",
     "output_type": "stream",
     "text": [
      "           Date Release Date       Type  Sentiment_Score\n",
      "0    2025-01-29   2025-02-19     Minute                5\n",
      "1    2025-01-29   2025-01-29  Statement                2\n",
      "2    2024-12-18   2024-12-18  Statement                5\n",
      "3    2024-12-18   2025-01-08     Minute                5\n",
      "4    2024-11-07   2024-11-26     Minute                5\n",
      "..          ...          ...        ...              ...\n",
      "439  2000-05-16   2000-05-16  Statement                3\n",
      "440  2000-03-21   2000-05-18     Minute                5\n",
      "441  2000-03-21   2000-03-21  Statement                3\n",
      "442  2000-02-02   2000-03-23     Minute                4\n",
      "443  2000-02-02   2000-02-02  Statement                3\n",
      "\n",
      "[444 rows x 4 columns]\n"
     ]
    }
   ],
   "source": [
    "import pandas as pd\n",
    "from nltk.sentiment.vader import SentimentIntensityAnalyzer\n",
    "import nltk\n",
    "\n",
    "nltk.download('vader_lexicon')\n",
    "\n",
    "# Load your dataset\n",
    "df = pd.read_csv('fomc.csv')\n",
    "sid = SentimentIntensityAnalyzer()\n",
    "\n",
    "# Hybrid sentiment function\n",
    "def hybrid_score(text):\n",
    "    if not isinstance(text, str):\n",
    "        return 0\n",
    "    vader_score = sid.polarity_scores(text)['compound'] * 5\n",
    "    adjustment = 0\n",
    "    text_lower = text.lower()\n",
    "    if 'inflation' in text_lower and 'elevated' in text_lower:\n",
    "        adjustment -= 1\n",
    "    if 'progress' in text_lower and '2 percent' in text_lower:\n",
    "        adjustment += 1\n",
    "    if 'raise' in text_lower:\n",
    "        adjustment -= 1\n",
    "    if 'lower' in text_lower:\n",
    "        adjustment += 1\n",
    "    if 'optimism' in text_lower:\n",
    "        adjustment += 1\n",
    "    final_score = max(-5, min(5, vader_score + adjustment))\n",
    "    return int(round(final_score))\n",
    "\n",
    "df['Sentiment_Score'] = df['Text'].apply(hybrid_score)\n",
    "\n",
    "print(df[['Date', 'Release Date', 'Type', 'Sentiment_Score']])\n",
    "df.to_csv('fomc_statement_with_sentiment.csv', index=False, sep='|')"
   ]
  },
  {
   "cell_type": "code",
   "execution_count": null,
   "metadata": {},
   "outputs": [],
   "source": []
  }
 ],
 "metadata": {
  "kernelspec": {
   "display_name": "Python 3",
   "language": "python",
   "name": "python3"
  },
  "language_info": {
   "codemirror_mode": {
    "name": "ipython",
    "version": 3
   },
   "file_extension": ".py",
   "mimetype": "text/x-python",
   "name": "python",
   "nbconvert_exporter": "python",
   "pygments_lexer": "ipython3",
   "version": "3.12.9"
  }
 },
 "nbformat": 4,
 "nbformat_minor": 2
}
